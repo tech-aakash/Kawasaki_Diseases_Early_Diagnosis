{
 "cells": [
  {
   "cell_type": "markdown",
   "metadata": {},
   "source": [
    "Generating labels"
   ]
  },
  {
   "cell_type": "code",
   "execution_count": 28,
   "metadata": {},
   "outputs": [
    {
     "name": "stdout",
     "output_type": "stream",
     "text": [
      "CSV file 'mouth-NM.csv' created with 183 images.\n"
     ]
    }
   ],
   "source": [
    "import os\n",
    "import pandas as pd\n",
    "\n",
    "# Define the path to your folder containing the images\n",
    "folder_path = '/home/azureuser/kawasaki-diseases/classification/KD Data (Public)/mouth/NM'\n",
    "\n",
    "# The label to assign to each image\n",
    "label = '0'\n",
    "\n",
    "# List image files by filtering common image file extensions\n",
    "image_files = [f for f in os.listdir(folder_path) if f.lower().endswith(('.png', '.jpg', '.jpeg', '.gif', '.bmp'))]\n",
    "\n",
    "# Create a DataFrame with image names and their label\n",
    "df = pd.DataFrame({'image_name': image_files, 'label': label})\n",
    "\n",
    "# Save the DataFrame to a CSV file\n",
    "output_csv = 'mouth-NM.csv'\n",
    "df.to_csv(output_csv, index=False)\n",
    "\n",
    "print(f\"CSV file '{output_csv}' created with {len(image_files)} images.\")"
   ]
  },
  {
   "cell_type": "code",
   "execution_count": 4,
   "metadata": {},
   "outputs": [
    {
     "name": "stdout",
     "output_type": "stream",
     "text": [
      "                           image_name  label\n",
      "0  40.kawasaki-disease-pictures-3.jpg      1\n",
      "1                            64.4.jpg      1\n",
      "2                    298.be-aware.jpg      1\n",
      "3         140.Rash_under_breasts.jpeg      1\n",
      "4    199.rash-of-kawasaki-disease.jpg      1\n"
     ]
    }
   ],
   "source": [
    "#read labels.csv and change the value of \"Kawasaki Diseases\" to 1 and \"Normal\" to 0 from the label column\n",
    "df = pd.read_csv('/home/azureuser/kawasaki-diseases/classification/KD Data (Public)/body/labels.csv')\n",
    "\n",
    "df['label'] = df['label'].apply(lambda x: 1 if x == 'Kawasaki Diseases' else 0)\n",
    "\n",
    "df.to_csv('/home/azureuser/kawasaki-diseases/classification/KD Data (Public)/body/labels.csv', index=False)\n",
    "print(df.head())"
   ]
  },
  {
   "cell_type": "code",
   "execution_count": 21,
   "metadata": {},
   "outputs": [
    {
     "name": "stdout",
     "output_type": "stream",
     "text": [
      "Moved 420 images from '/home/azureuser/kawasaki-diseases/classification/KD Data (Public)/hand_stages/KWswollen' to '/home/azureuser/kawasaki-diseases/classification/KD Data (Public)/hand_stages/KWswollen'.\n"
     ]
    }
   ],
   "source": [
    "#read all the images in KWsollen folder and add prefix \"KWswollen\" to the image name\n",
    "import os\n",
    "import shutil\n",
    "\n",
    "folder_path = '/home/azureuser/kawasaki-diseases/classification/KD Data (Public)/hand_stages/KWswollen'\n",
    "output_folder = '/home/azureuser/kawasaki-diseases/classification/KD Data (Public)/hand_stages/KWswollen'\n",
    "\n",
    "image_files = [f for f in os.listdir(folder_path) if f.lower().endswith(('.png', '.jpg', '.jpeg', '.gif', '.bmp'))]\n",
    "\n",
    "for image_file in image_files:\n",
    "    src = os.path.join(folder_path, image_file)\n",
    "    dst = os.path.join(output_folder, f'KWswollen_{image_file}')\n",
    "    shutil.move(src, dst)\n",
    "\n",
    "print(f\"Moved {len(image_files)} images from '{folder_path}' to '{output_folder}'.\")"
   ]
  },
  {
   "cell_type": "code",
   "execution_count": 30,
   "metadata": {},
   "outputs": [
    {
     "name": "stdout",
     "output_type": "stream",
     "text": [
      "Moved 124 images from '/home/azureuser/kawasaki-diseases/classification/KD Data (Public)/mouth/KW' to '/home/azureuser/kawasaki-diseases/classification/KD Data (Public)/mouth/images'.\n"
     ]
    }
   ],
   "source": [
    "#move all the files from one directory to another\n",
    "import os\n",
    "import shutil\n",
    "\n",
    "folder_path = '/home/azureuser/kawasaki-diseases/classification/KD Data (Public)/mouth/KW'\n",
    "output_folder = '/home/azureuser/kawasaki-diseases/classification/KD Data (Public)/mouth/images'\n",
    "\n",
    "image_files = [f for f in os.listdir(folder_path) if f.lower().endswith(('.png', '.jpg', '.jpeg', '.gif', '.bmp'))]\n",
    "\n",
    "for image_file in image_files:\n",
    "    src = os.path.join(folder_path, image_file)\n",
    "    dst = os.path.join(output_folder, image_file)\n",
    "    shutil.move(src, dst)\n",
    "\n",
    "print(f\"Moved {len(image_files)} images from '{folder_path}' to '{output_folder}'.\")"
   ]
  },
  {
   "cell_type": "code",
   "execution_count": null,
   "metadata": {},
   "outputs": [
    {
     "name": "stdout",
     "output_type": "stream",
     "text": [
      "Folder: /home/azureuser/kawasaki-diseases/classification/KD Data (Public)/body, Images: 0, Labels: /home/azureuser/kawasaki-diseases/classification/KD Data (Public)/body/labels.csv\n",
      "Folder: /home/azureuser/kawasaki-diseases/classification/KD Data (Public)/mouth, Images: 0, Labels: /home/azureuser/kawasaki-diseases/classification/KD Data (Public)/mouth/labels.csv\n",
      "Folder: /home/azureuser/kawasaki-diseases/classification/KD Data (Public)/eye, Images: 0, Labels: /home/azureuser/kawasaki-diseases/classification/KD Data (Public)/eye/labels.csv\n",
      "Folder: /home/azureuser/kawasaki-diseases/classification/KD Data (Public)/foot, Images: 0, Labels: /home/azureuser/kawasaki-diseases/classification/KD Data (Public)/foot/labels.csv\n",
      "Folder: /home/azureuser/kawasaki-diseases/classification/KD Data (Public)/foot_stages, Images: 0, Labels: /home/azureuser/kawasaki-diseases/classification/KD Data (Public)/foot_stages/labels.csv\n",
      "Folder: /home/azureuser/kawasaki-diseases/classification/KD Data (Public)/hand, Images: 0, Labels: /home/azureuser/kawasaki-diseases/classification/KD Data (Public)/hand/labels.csv\n",
      "Folder: /home/azureuser/kawasaki-diseases/classification/KD Data (Public)/hand_stages, Images: 0, Labels: /home/azureuser/kawasaki-diseases/classification/KD Data (Public)/hand_stages/labels.csv\n"
     ]
    }
   ],
   "source": [
    "#write a python code to provide link of image folder and labels.csv file from the sub folder of the base folders\n",
    "\n",
    "import os\n",
    "\n",
    "base_folder = '/home/azureuser/kawasaki-diseases/classification/KD Data (Public)'\n",
    "sub_folders = ['body', 'mouth','eye','foot','foot_stages','hand','hand_stages']\n",
    "\n",
    "for sub_folder in sub_folders:\n",
    "    folder_path = os.path.join(base_folder, sub_folder)\n",
    "    image_files = [f for f in os.listdir(folder_path) if f.lower().endswith(('.png', '.jpg', '.jpeg', '.gif', '.bmp'))]\n",
    "    labels_file = os.path.join(folder_path, 'labels.csv')\n",
    "    print(f\"Folder: {folder_path}, Images: {len(image_files)}, Labels: {labels_file}\")\n"
   ]
  },
  {
   "cell_type": "code",
   "execution_count": 10,
   "metadata": {},
   "outputs": [
    {
     "name": "stdout",
     "output_type": "stream",
     "text": [
      "✅ Dataset has been reorganized successfully!\n"
     ]
    }
   ],
   "source": [
    "import os\n",
    "import shutil\n",
    "import pandas as pd\n",
    "from sklearn.model_selection import train_test_split\n",
    "\n",
    "# Input and Output paths\n",
    "source_folder = \"/home/azureuser/kawasaki-diseases/classification/KD Data (Public)/hand_stages\"\n",
    "output_folder = \"/home/azureuser/kawasaki-diseases/classification/Yolo_Data/hand_stages\"\n",
    "\n",
    "# Label mapping\n",
    "label_map = {\n",
    "    0: \"Normal\",\n",
    "    1: \"Kawasaki Diseases\"\n",
    "}\n",
    "\n",
    "# Load CSV\n",
    "labels_csv = os.path.join(source_folder, \"labels.csv\")\n",
    "images_folder = os.path.join(source_folder, \"images\")\n",
    "df = pd.read_csv(labels_csv)\n",
    "\n",
    "# Filter images that exist\n",
    "df[\"image_path\"] = df[\"image_name\"].apply(lambda x: os.path.join(images_folder, x))\n",
    "df = df[df[\"image_path\"].apply(os.path.exists)]\n",
    "\n",
    "# Split data (70% train, 20% val, 10% test)\n",
    "train_val, test = train_test_split(df, test_size=0.1, stratify=df[\"label\"], random_state=42)\n",
    "train, val = train_test_split(train_val, test_size=2/9, stratify=train_val[\"label\"], random_state=42)\n",
    "\n",
    "# Function to copy images\n",
    "def copy_images(subset_df, split_name):\n",
    "    for _, row in subset_df.iterrows():\n",
    "        label_name = label_map[row[\"label\"]]\n",
    "        dest_dir = os.path.join(output_folder, split_name, label_name)\n",
    "        os.makedirs(dest_dir, exist_ok=True)\n",
    "        dest_path = os.path.join(dest_dir, row[\"image_name\"])\n",
    "        shutil.copy(row[\"image_path\"], dest_path)\n",
    "\n",
    "# Copy all splits\n",
    "copy_images(train, \"train\")\n",
    "copy_images(val, \"val\")\n",
    "copy_images(test, \"test\")\n",
    "\n",
    "print(\"✅ Dataset has been reorganized successfully!\")"
   ]
  },
  {
   "cell_type": "code",
   "execution_count": 17,
   "metadata": {},
   "outputs": [
    {
     "name": "stdout",
     "output_type": "stream",
     "text": [
      "\n",
      "mouth\n",
      "- Normal: 183\n",
      "- Kawasaki Diseases: 124\n",
      "\n",
      "eye\n",
      "- Normal: 145\n",
      "- Kawasaki Diseases: 58\n",
      "\n",
      "hand\n",
      "- Normal: 158\n",
      "- Kawasaki Diseases: 72\n",
      "\n",
      "body\n",
      "- Normal: 206\n",
      "- Kawasaki Diseases: 82\n",
      "\n",
      "hand_stages\n",
      "- Normal: 616\n",
      "- Kawasaki Diseases: 620\n",
      "\n",
      "foot\n",
      "- Normal: 176\n",
      "- Kawasaki Diseases: 58\n",
      "\n",
      "foot_stages\n",
      "- Normal: 124\n",
      "- Kawasaki Diseases: 408\n"
     ]
    }
   ],
   "source": [
    "import os\n",
    "\n",
    "def count_images_in_yolo_data(base_dir):\n",
    "    # Loop through each subfolder in Yolo_Data\n",
    "    for region in os.listdir(base_dir):\n",
    "        region_path = os.path.join(base_dir, region)\n",
    "        if not os.path.isdir(region_path):\n",
    "            continue\n",
    "\n",
    "        print(f\"\\n{region}\")\n",
    "        class_counts = {}\n",
    "\n",
    "        # Look inside train/val/test folders\n",
    "        for split in ['train', 'val', 'test']:\n",
    "            split_path = os.path.join(region_path, split)\n",
    "            if not os.path.exists(split_path):\n",
    "                continue\n",
    "\n",
    "            for class_name in os.listdir(split_path):\n",
    "                class_path = os.path.join(split_path, class_name)\n",
    "                if not os.path.isdir(class_path):\n",
    "                    continue\n",
    "\n",
    "                # Count image files (you can extend to filter only .jpg/.png if needed)\n",
    "                num_images = len([\n",
    "                    f for f in os.listdir(class_path)\n",
    "                    if os.path.isfile(os.path.join(class_path, f))\n",
    "                ])\n",
    "\n",
    "                key = f\"{class_name}\"\n",
    "                class_counts[key] = class_counts.get(key, 0) + num_images\n",
    "\n",
    "        # Print counts\n",
    "        for label, count in class_counts.items():\n",
    "            print(f\"- {label}: {count}\")\n",
    "\n",
    "# Set your base directory\n",
    "yolo_data_path = \"/home/azureuser/kawasaki-diseases/classification/Yolo_Data\"\n",
    "count_images_in_yolo_data(yolo_data_path)"
   ]
  },
  {
   "cell_type": "markdown",
   "metadata": {},
   "source": [
    "Stratified sampling"
   ]
  },
  {
   "cell_type": "code",
   "execution_count": 4,
   "metadata": {},
   "outputs": [
    {
     "name": "stdout",
     "output_type": "stream",
     "text": [
      "\n",
      "📊 Image Count Summary in: /home/azureuser/kawasaki-diseases/classification/Yolo_Data\n",
      "\n",
      "🧠 Region: mouth\n",
      "  📁 Train:\n",
      "    ✅ Normal: 128 images\n",
      "    ✅ Kawasaki Diseases: 130 images\n",
      "  📁 Val:\n",
      "    ✅ Normal: 37 images\n",
      "    ✅ Kawasaki Diseases: 50 images\n",
      "  📁 Test:\n",
      "    ✅ Normal: 18 images\n",
      "    ✅ Kawasaki Diseases: 20 images\n",
      "\n",
      "🧠 Region: datasets\n",
      "\n",
      "🧠 Region: eye\n",
      "  📁 Train:\n",
      "    ✅ Normal: 101 images\n",
      "    ✅ Kawasaki Diseases: 100 images\n",
      "  📁 Val:\n",
      "    ✅ Normal: 29 images\n",
      "    ✅ Kawasaki Diseases: 35 images\n",
      "  📁 Test:\n",
      "    ✅ Normal: 15 images\n",
      "    ✅ Kawasaki Diseases: 20 images\n",
      "\n",
      "🧠 Region: hand\n",
      "  📁 Train:\n",
      "    ✅ Normal: 109 images\n",
      "    ✅ Kawasaki Diseases: 105 images\n",
      "  📁 Val:\n",
      "    ✅ Normal: 32 images\n",
      "    ✅ Kawasaki Diseases: 40 images\n",
      "  📁 Test:\n",
      "    ✅ Normal: 15 images\n",
      "    ✅ Kawasaki Diseases: 20 images\n",
      "\n",
      "🧠 Region: body\n",
      "  📁 Train:\n",
      "    ✅ Normal: 144 images\n",
      "    ✅ Kawasaki Diseases: 140 images\n",
      "  📁 Val:\n",
      "    ✅ Normal: 41 images\n",
      "    ✅ Kawasaki Diseases: 17 images\n",
      "  📁 Test:\n",
      "    ✅ Normal: 21 images\n",
      "    ✅ Kawasaki Diseases: 8 images\n",
      "\n",
      "🧠 Region: hand_stages\n",
      "  📁 Train:\n",
      "    ✅ Normal: 430 images\n",
      "    ✅ Kawasaki Diseases: 434 images\n",
      "  📁 Val:\n",
      "    ✅ Normal: 124 images\n",
      "    ✅ Kawasaki Diseases: 124 images\n",
      "  📁 Test:\n",
      "    ✅ Normal: 62 images\n",
      "    ✅ Kawasaki Diseases: 62 images\n",
      "\n",
      "🧠 Region: foot\n",
      "  📁 Train:\n",
      "    ✅ Normal: 122 images\n",
      "    ✅ Kawasaki Diseases: 120 images\n",
      "  📁 Val:\n",
      "    ✅ Normal: 35 images\n",
      "    ✅ Kawasaki Diseases: 12 images\n",
      "  📁 Test:\n",
      "    ✅ Normal: 18 images\n",
      "    ✅ Kawasaki Diseases: 6 images\n",
      "\n",
      "🧠 Region: foot_stages\n",
      "  📁 Train:\n",
      "    ✅ Normal: 250 images\n",
      "    ✅ Kawasaki Diseases: 285 images\n",
      "  📁 Val:\n",
      "    ✅ Normal: 25 images\n",
      "    ✅ Kawasaki Diseases: 82 images\n",
      "  📁 Test:\n",
      "    ✅ Normal: 13 images\n",
      "    ✅ Kawasaki Diseases: 41 images\n"
     ]
    }
   ],
   "source": [
    "import os\n",
    "\n",
    "def summarize_yolo_split(base_dir):\n",
    "    print(f\"\\n📊 Image Count Summary in: {base_dir}\")\n",
    "    \n",
    "    for region in os.listdir(base_dir):\n",
    "        region_path = os.path.join(base_dir, region)\n",
    "        if not os.path.isdir(region_path):\n",
    "            continue\n",
    "\n",
    "        print(f\"\\n🧠 Region: {region}\")\n",
    "        for split in ['train', 'val', 'test']:\n",
    "            split_path = os.path.join(region_path, split)\n",
    "            if not os.path.exists(split_path):\n",
    "                continue\n",
    "\n",
    "            print(f\"  📁 {split.capitalize()}:\")\n",
    "            for label in ['Normal', 'Kawasaki Diseases']:\n",
    "                label_path = os.path.join(split_path, label)\n",
    "                if not os.path.exists(label_path):\n",
    "                    print(f\"    ⚠️ {label}: 0 (missing)\")\n",
    "                    continue\n",
    "                image_count = len([\n",
    "                    f for f in os.listdir(label_path)\n",
    "                    if os.path.isfile(os.path.join(label_path, f)) and f.lower().endswith(('.png', '.jpg', '.jpeg'))\n",
    "                ])\n",
    "                print(f\"    ✅ {label}: {image_count} images\")\n",
    "\n",
    "# Change this to your root folder\n",
    "yolo_base = \"/home/azureuser/kawasaki-diseases/classification/Yolo_Data\"\n",
    "summarize_yolo_split(yolo_base)"
   ]
  },
  {
   "cell_type": "code",
   "execution_count": 12,
   "metadata": {},
   "outputs": [
    {
     "name": "stdout",
     "output_type": "stream",
     "text": [
      "📁 Augmenting /home/azureuser/kawasaki-diseases/classification/Yolo_Data/foot_stages/test/Normal | Current: 13, Target: 35, To add: 22\n"
     ]
    }
   ],
   "source": [
    "import os\n",
    "import random\n",
    "from PIL import Image, ImageEnhance\n",
    "import shutil\n",
    "\n",
    "def augment_image(img_path, save_path, aug_id):\n",
    "    image = Image.open(img_path).convert(\"RGB\")\n",
    "\n",
    "    # Apply random brightness\n",
    "    brightness = ImageEnhance.Brightness(image)\n",
    "    image = brightness.enhance(random.uniform(0.7, 1.3))\n",
    "\n",
    "    # Apply random contrast\n",
    "    contrast = ImageEnhance.Contrast(image)\n",
    "    image = contrast.enhance(random.uniform(0.8, 1.4))\n",
    "\n",
    "    # Apply zoom (random crop + resize)\n",
    "    width, height = image.size\n",
    "    zoom_factor = random.uniform(0.8, 1.0)  # Crop 80–100% of original\n",
    "    new_w = int(width * zoom_factor)\n",
    "    new_h = int(height * zoom_factor)\n",
    "    left = random.randint(0, width - new_w)\n",
    "    top = random.randint(0, height - new_h)\n",
    "    image = image.crop((left, top, left + new_w, top + new_h))\n",
    "    image = image.resize((width, height))  # Resize back to original\n",
    "\n",
    "    # Save augmented image\n",
    "    base = os.path.basename(img_path)\n",
    "    name, ext = os.path.splitext(base)\n",
    "    aug_name = f\"{name}_aug{aug_id}{ext}\"\n",
    "    image.save(os.path.join(save_path, aug_name))\n",
    "\n",
    "def augment_minority_class(folder_path, target_count):\n",
    "    images = [f for f in os.listdir(folder_path) if f.lower().endswith(('.jpg', '.jpeg', '.png'))]\n",
    "    current_count = len(images)\n",
    "    needed = target_count - current_count\n",
    "\n",
    "    print(f\"📁 Augmenting {folder_path} | Current: {current_count}, Target: {target_count}, To add: {needed}\")\n",
    "    if needed <= 0:\n",
    "        print(\"✅ Already balanced.\")\n",
    "        return\n",
    "\n",
    "    for i in range(needed):\n",
    "        img_to_aug = random.choice(images)\n",
    "        img_path = os.path.join(folder_path, img_to_aug)\n",
    "        augment_image(img_path, folder_path, i)\n",
    "\n",
    "# 🔧 Example usage:\n",
    "# Say you want to balance foot KD class to 176\n",
    "augment_minority_class(\n",
    "    folder_path=\"/home/azureuser/kawasaki-diseases/classification/Yolo_Data/foot_stages/test/Normal\",\n",
    "    target_count=35\n",
    ")"
   ]
  }
 ],
 "metadata": {
  "kernelspec": {
   "display_name": "kawasaki_diseases",
   "language": "python",
   "name": "python3"
  },
  "language_info": {
   "codemirror_mode": {
    "name": "ipython",
    "version": 3
   },
   "file_extension": ".py",
   "mimetype": "text/x-python",
   "name": "python",
   "nbconvert_exporter": "python",
   "pygments_lexer": "ipython3",
   "version": "3.9.21"
  }
 },
 "nbformat": 4,
 "nbformat_minor": 2
}
